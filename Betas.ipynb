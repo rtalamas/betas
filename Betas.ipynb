{
 "cells": [
  {
   "cell_type": "markdown",
   "id": "bd13d39f-0a3a-4e6b-8edf-b589836b2bba",
   "metadata": {},
   "source": [
    "# Market Beta "
   ]
  },
  {
   "cell_type": "markdown",
   "id": "151f1b4b-3f61-459d-91d5-6cb081213d04",
   "metadata": {},
   "source": [
    "### What is beta? \n",
    "\n",
    "The beta ($\\beta{}$) of an investment instrument is a measurment of its volatility relative to the broad market. The statistic is normally used as a measure of risk often used in portfolio construction. "
   ]
  },
  {
   "cell_type": "markdown",
   "id": "459be8e3-6000-444b-b06a-37731e5409ba",
   "metadata": {},
   "source": [
    "The market used to compute asset betas can be any instrument representative of an asset class. The S&P 500 is often used to compute a stock's beta in traditional markets since it is a good representatio of equity markets as a whole. BTC or ETH are good market candidates when computing token betas."
   ]
  },
  {
   "cell_type": "markdown",
   "id": "9300a495-1e58-4b16-9563-6152cd7a0347",
   "metadata": {},
   "source": [
    "### Interpretation\n",
    "\n",
    "The beta of the market is always equal to 1. The asset beta to a specific market can be interpreted as follows:\n",
    "\n",
    "* $\\beta{}$ = 1 means the volatility of the asset is the same as the market\n",
    "* $\\beta{}$ > 1 means the volatility of the asset is greater than market\n",
    "* 0 < $\\beta{}$ < 1 means the volatility of the asset is less than market\n",
    "* $\\beta{}$ = 0 means the asset is uncorrelated to the market\n",
    "* $\\beta{}$ < 0 means the assset is negatively correlated to the market"
   ]
  },
  {
   "cell_type": "markdown",
   "id": "e608e325-8ed7-4470-bfa3-392780589feb",
   "metadata": {},
   "source": [
    "### Examples\n",
    "\n",
    "High $\\beta{}$ – A token with a $\\beta{}$ that’s greater than 1 is more volatile than the market (in this case BTC). For example, a high-risk DeFi token with a $\\beta{}$ of 1.75 implies that on average the token will experience 75% more volatility relative to Bitcoin. If Bitcoin's were to tumble 10%, on average the token's price will fall 17.5% (10% * 1.75).\n",
    "\n",
    "Low $\\beta{}$ – A token with a $\\beta{}$ that’s lower than 1 is less volatile than the whole market (again the market here is BTC). As an example, consider a data management protocol with a $\\beta{}$ of 0.45. In this case, if BTC were to drop 10%, the data management protocol would only suffer a 4.5% drop, on average. "
   ]
  },
  {
   "cell_type": "markdown",
   "id": "17be3eab-23ba-44ee-9ffc-83e80cadcd13",
   "metadata": {},
   "source": [
    "### Calculation\n",
    "\n",
    "There are two ways to estimate an asset's beta. The first is to use the beta formula which is calculated as the covariance between the asset and the market divided by the variance of the market. The formula is as follows:\n",
    "\n",
    "$$\n",
    "\\beta{} = \\frac{Cov(a,m)}{Var(m)}\n",
    "$$\n",
    "\n",
    "Where *a* is the daily returns of the asset and and *m* is the daily returns of the reference market.\n",
    "\n",
    "The second method is to perform a linear regression using the token's dialy returns as the dependent variable and the market's return as the independent variable. The result of the regression coefficient is the asset beta to the given market."
   ]
  },
  {
   "cell_type": "markdown",
   "id": "2b7b688b-1f82-4740-b2ee-24475f028eb5",
   "metadata": {},
   "source": [
    "Now lets see how we can compute asset betas using Python and [Messari's Python library](https://objective-lalande-8ec88b.netlify.app/)"
   ]
  },
  {
   "cell_type": "markdown",
   "id": "38efb3cc-3a5c-4341-8541-2c577a1a5e62",
   "metadata": {},
   "source": [
    "First we need to import a couple of libraries"
   ]
  },
  {
   "cell_type": "code",
   "execution_count": 1,
   "id": "01bcd8bd-dfbe-48c8-898f-da8dd040118b",
   "metadata": {},
   "outputs": [],
   "source": [
    "from messari.messari import Messari\n",
    "from betas import compute_betas\n",
    "import pandas as pd"
   ]
  },
  {
   "cell_type": "code",
   "execution_count": 2,
   "id": "724e1443-c3ac-4704-9b54-23be581ced7e",
   "metadata": {},
   "outputs": [],
   "source": [
    "# Create an instance of the Messari API to pull historical price data for an asset universe\n",
    "m = Messari('your_api_key')"
   ]
  },
  {
   "cell_type": "code",
   "execution_count": 3,
   "id": "4e249598-e2ea-4344-8b7a-9f31741e135c",
   "metadata": {},
   "outputs": [],
   "source": [
    "# Define asset universe by sector\n",
    "smart_contract_platforms = ['ETH', 'SOL', 'LUNA', 'AVAX', 'ATOM', 'NEAR', 'FTM']\n",
    "dexs = ['UNI', 'SUSHI', 'BNT', 'CRV', 'LRC', 'SUSHI']\n",
    "defi_2_0 = ['ALCX', 'SPELL', 'TOKE', 'OHM', 'FXS', 'CVX']\n",
    "lending = ['AAVE', 'MKR', 'COMP', 'ANC', 'XVS']\n",
    "data_management = ['GRT', 'BAND', 'API3']\n",
    "storage = ['FIL', 'AR', 'SC', 'STORJ']\n",
    "gaming = ['AXS', 'SAND', 'CHZ', 'ENJ', 'YGG', 'ILV', 'MANA', 'RARI']  \n",
    "asset_universe = smart_contract_platforms + dexs + lending + data_management + storage + gaming + defi_2_0"
   ]
  },
  {
   "cell_type": "code",
   "execution_count": 4,
   "id": "b7ba89f2-6e8c-4b52-8524-2672e62de764",
   "metadata": {},
   "outputs": [
    {
     "data": {
      "text/html": [
       "<div>\n",
       "<style scoped>\n",
       "    .dataframe tbody tr th:only-of-type {\n",
       "        vertical-align: middle;\n",
       "    }\n",
       "\n",
       "    .dataframe tbody tr th {\n",
       "        vertical-align: top;\n",
       "    }\n",
       "\n",
       "    .dataframe thead th {\n",
       "        text-align: right;\n",
       "    }\n",
       "</style>\n",
       "<table border=\"1\" class=\"dataframe\">\n",
       "  <thead>\n",
       "    <tr style=\"text-align: right;\">\n",
       "      <th></th>\n",
       "      <th>ETH</th>\n",
       "      <th>SOL</th>\n",
       "      <th>LUNA</th>\n",
       "      <th>AVAX</th>\n",
       "      <th>ATOM</th>\n",
       "      <th>NEAR</th>\n",
       "      <th>FTM</th>\n",
       "      <th>UNI</th>\n",
       "      <th>SUSHI</th>\n",
       "      <th>BNT</th>\n",
       "      <th>...</th>\n",
       "      <th>YGG</th>\n",
       "      <th>ILV</th>\n",
       "      <th>MANA</th>\n",
       "      <th>RARI</th>\n",
       "      <th>ALCX</th>\n",
       "      <th>SPELL</th>\n",
       "      <th>TOKE</th>\n",
       "      <th>OHM</th>\n",
       "      <th>FXS</th>\n",
       "      <th>CVX</th>\n",
       "    </tr>\n",
       "    <tr>\n",
       "      <th>timestamp</th>\n",
       "      <th></th>\n",
       "      <th></th>\n",
       "      <th></th>\n",
       "      <th></th>\n",
       "      <th></th>\n",
       "      <th></th>\n",
       "      <th></th>\n",
       "      <th></th>\n",
       "      <th></th>\n",
       "      <th></th>\n",
       "      <th></th>\n",
       "      <th></th>\n",
       "      <th></th>\n",
       "      <th></th>\n",
       "      <th></th>\n",
       "      <th></th>\n",
       "      <th></th>\n",
       "      <th></th>\n",
       "      <th></th>\n",
       "      <th></th>\n",
       "      <th></th>\n",
       "    </tr>\n",
       "  </thead>\n",
       "  <tbody>\n",
       "    <tr>\n",
       "      <th>2022-01-01</th>\n",
       "      <td>3766.532992</td>\n",
       "      <td>179.155937</td>\n",
       "      <td>91.691903</td>\n",
       "      <td>114.195272</td>\n",
       "      <td>36.341238</td>\n",
       "      <td>15.178905</td>\n",
       "      <td>2.584341</td>\n",
       "      <td>17.479876</td>\n",
       "      <td>9.138407</td>\n",
       "      <td>3.345833</td>\n",
       "      <td>...</td>\n",
       "      <td>5.581908</td>\n",
       "      <td>1044.185427</td>\n",
       "      <td>3.348083</td>\n",
       "      <td>18.364854</td>\n",
       "      <td>314.731389</td>\n",
       "      <td>0.023246</td>\n",
       "      <td>39.792588</td>\n",
       "      <td>362.307687</td>\n",
       "      <td>36.578046</td>\n",
       "      <td>49.463039</td>\n",
       "    </tr>\n",
       "    <tr>\n",
       "      <th>2022-01-02</th>\n",
       "      <td>3829.897541</td>\n",
       "      <td>176.392454</td>\n",
       "      <td>89.466147</td>\n",
       "      <td>113.118265</td>\n",
       "      <td>35.536459</td>\n",
       "      <td>14.390875</td>\n",
       "      <td>2.484514</td>\n",
       "      <td>18.409893</td>\n",
       "      <td>8.932556</td>\n",
       "      <td>3.395584</td>\n",
       "      <td>...</td>\n",
       "      <td>5.604856</td>\n",
       "      <td>1048.212810</td>\n",
       "      <td>3.338468</td>\n",
       "      <td>16.801890</td>\n",
       "      <td>318.458565</td>\n",
       "      <td>0.023952</td>\n",
       "      <td>41.825429</td>\n",
       "      <td>369.335900</td>\n",
       "      <td>36.001138</td>\n",
       "      <td>47.986473</td>\n",
       "    </tr>\n",
       "    <tr>\n",
       "      <th>2022-01-03</th>\n",
       "      <td>3765.585515</td>\n",
       "      <td>170.131201</td>\n",
       "      <td>88.864210</td>\n",
       "      <td>108.096944</td>\n",
       "      <td>39.250005</td>\n",
       "      <td>16.488727</td>\n",
       "      <td>2.868405</td>\n",
       "      <td>18.460280</td>\n",
       "      <td>8.520118</td>\n",
       "      <td>3.429079</td>\n",
       "      <td>...</td>\n",
       "      <td>5.324758</td>\n",
       "      <td>1033.600080</td>\n",
       "      <td>3.249706</td>\n",
       "      <td>15.312739</td>\n",
       "      <td>326.141876</td>\n",
       "      <td>0.022140</td>\n",
       "      <td>47.551960</td>\n",
       "      <td>326.934391</td>\n",
       "      <td>32.576727</td>\n",
       "      <td>47.390986</td>\n",
       "    </tr>\n",
       "    <tr>\n",
       "      <th>2022-01-04</th>\n",
       "      <td>3784.977387</td>\n",
       "      <td>167.735108</td>\n",
       "      <td>84.535495</td>\n",
       "      <td>103.320413</td>\n",
       "      <td>42.076981</td>\n",
       "      <td>16.027078</td>\n",
       "      <td>2.878789</td>\n",
       "      <td>18.207879</td>\n",
       "      <td>8.073258</td>\n",
       "      <td>3.396458</td>\n",
       "      <td>...</td>\n",
       "      <td>5.183838</td>\n",
       "      <td>977.775741</td>\n",
       "      <td>3.174479</td>\n",
       "      <td>15.512269</td>\n",
       "      <td>298.659206</td>\n",
       "      <td>0.021104</td>\n",
       "      <td>50.044321</td>\n",
       "      <td>325.725792</td>\n",
       "      <td>37.697370</td>\n",
       "      <td>49.439739</td>\n",
       "    </tr>\n",
       "    <tr>\n",
       "      <th>2022-01-05</th>\n",
       "      <td>3539.516396</td>\n",
       "      <td>154.467556</td>\n",
       "      <td>78.446542</td>\n",
       "      <td>97.399697</td>\n",
       "      <td>38.658981</td>\n",
       "      <td>15.307374</td>\n",
       "      <td>2.931862</td>\n",
       "      <td>17.109200</td>\n",
       "      <td>7.647269</td>\n",
       "      <td>3.299881</td>\n",
       "      <td>...</td>\n",
       "      <td>4.713720</td>\n",
       "      <td>892.950674</td>\n",
       "      <td>2.916913</td>\n",
       "      <td>14.445957</td>\n",
       "      <td>366.461764</td>\n",
       "      <td>0.018246</td>\n",
       "      <td>53.519481</td>\n",
       "      <td>316.879681</td>\n",
       "      <td>34.739673</td>\n",
       "      <td>42.919420</td>\n",
       "    </tr>\n",
       "  </tbody>\n",
       "</table>\n",
       "<p>5 rows × 38 columns</p>\n",
       "</div>"
      ],
      "text/plain": [
       "                    ETH         SOL       LUNA        AVAX       ATOM  \\\n",
       "timestamp                                                               \n",
       "2022-01-01  3766.532992  179.155937  91.691903  114.195272  36.341238   \n",
       "2022-01-02  3829.897541  176.392454  89.466147  113.118265  35.536459   \n",
       "2022-01-03  3765.585515  170.131201  88.864210  108.096944  39.250005   \n",
       "2022-01-04  3784.977387  167.735108  84.535495  103.320413  42.076981   \n",
       "2022-01-05  3539.516396  154.467556  78.446542   97.399697  38.658981   \n",
       "\n",
       "                 NEAR       FTM        UNI     SUSHI       BNT  ...       YGG  \\\n",
       "timestamp                                                       ...             \n",
       "2022-01-01  15.178905  2.584341  17.479876  9.138407  3.345833  ...  5.581908   \n",
       "2022-01-02  14.390875  2.484514  18.409893  8.932556  3.395584  ...  5.604856   \n",
       "2022-01-03  16.488727  2.868405  18.460280  8.520118  3.429079  ...  5.324758   \n",
       "2022-01-04  16.027078  2.878789  18.207879  8.073258  3.396458  ...  5.183838   \n",
       "2022-01-05  15.307374  2.931862  17.109200  7.647269  3.299881  ...  4.713720   \n",
       "\n",
       "                    ILV      MANA       RARI        ALCX     SPELL       TOKE  \\\n",
       "timestamp                                                                       \n",
       "2022-01-01  1044.185427  3.348083  18.364854  314.731389  0.023246  39.792588   \n",
       "2022-01-02  1048.212810  3.338468  16.801890  318.458565  0.023952  41.825429   \n",
       "2022-01-03  1033.600080  3.249706  15.312739  326.141876  0.022140  47.551960   \n",
       "2022-01-04   977.775741  3.174479  15.512269  298.659206  0.021104  50.044321   \n",
       "2022-01-05   892.950674  2.916913  14.445957  366.461764  0.018246  53.519481   \n",
       "\n",
       "                   OHM        FXS        CVX  \n",
       "timestamp                                     \n",
       "2022-01-01  362.307687  36.578046  49.463039  \n",
       "2022-01-02  369.335900  36.001138  47.986473  \n",
       "2022-01-03  326.934391  32.576727  47.390986  \n",
       "2022-01-04  325.725792  37.697370  49.439739  \n",
       "2022-01-05  316.879681  34.739673  42.919420  \n",
       "\n",
       "[5 rows x 38 columns]"
      ]
     },
     "execution_count": 4,
     "metadata": {},
     "output_type": "execute_result"
    }
   ],
   "source": [
    "# Pull price data using the Messari API\n",
    "start = '2022-01-01'\n",
    "end = '2022-03-06'\n",
    "prices = m.get_metric_timeseries(asset_universe, 'price', start, end)\n",
    "\n",
    "# Keep only closing prices\n",
    "prices = prices.xs('close', axis=1, level=1)\n",
    "prices.head()"
   ]
  },
  {
   "cell_type": "markdown",
   "id": "13f4fdcd-e829-42cf-b97f-868f3c4d00e3",
   "metadata": {},
   "source": [
    "Now that we have a price series for all our assets, we can pass the price dataframe to the **compute_betas** function along with the ticker of the market we'd like to use as reference. The function computes $\\beta{}$ using the regression approach.\n",
    "\n",
    "**NOTE** The function will use Yahoo Finance for equity indexes. You will need to [install](https://pypi.org/project/yfinance/) the yfinance library if you plan on using equities data."
   ]
  },
  {
   "cell_type": "code",
   "execution_count": 5,
   "id": "53b12ee2-3502-4360-b40d-3ea5a790f797",
   "metadata": {},
   "outputs": [
    {
     "data": {
      "text/html": [
       "<div>\n",
       "<style scoped>\n",
       "    .dataframe tbody tr th:only-of-type {\n",
       "        vertical-align: middle;\n",
       "    }\n",
       "\n",
       "    .dataframe tbody tr th {\n",
       "        vertical-align: top;\n",
       "    }\n",
       "\n",
       "    .dataframe thead th {\n",
       "        text-align: right;\n",
       "    }\n",
       "</style>\n",
       "<table border=\"1\" class=\"dataframe\">\n",
       "  <thead>\n",
       "    <tr style=\"text-align: right;\">\n",
       "      <th></th>\n",
       "      <th>BTC</th>\n",
       "    </tr>\n",
       "  </thead>\n",
       "  <tbody>\n",
       "    <tr>\n",
       "      <th>ETH</th>\n",
       "      <td>1.189250</td>\n",
       "    </tr>\n",
       "    <tr>\n",
       "      <th>SOL</th>\n",
       "      <td>1.412476</td>\n",
       "    </tr>\n",
       "    <tr>\n",
       "      <th>LUNA</th>\n",
       "      <td>1.553203</td>\n",
       "    </tr>\n",
       "    <tr>\n",
       "      <th>AVAX</th>\n",
       "      <td>1.665892</td>\n",
       "    </tr>\n",
       "    <tr>\n",
       "      <th>ATOM</th>\n",
       "      <td>1.281610</td>\n",
       "    </tr>\n",
       "  </tbody>\n",
       "</table>\n",
       "</div>"
      ],
      "text/plain": [
       "           BTC\n",
       "ETH   1.189250\n",
       "SOL   1.412476\n",
       "LUNA  1.553203\n",
       "AVAX  1.665892\n",
       "ATOM  1.281610"
      ]
     },
     "execution_count": 5,
     "metadata": {},
     "output_type": "execute_result"
    }
   ],
   "source": [
    "market = 'BTC'\n",
    "btc_asset_betas = compute_betas(prices, market_ticker=market)\n",
    "btc_asset_betas.head()"
   ]
  },
  {
   "cell_type": "markdown",
   "id": "1a037f8c-6abb-424d-a336-127bc34c402c",
   "metadata": {},
   "source": [
    "We can do the same using different markets for a thorough comparison. Lets compare compute asset betas relative to Ethereum and the S&P 500"
   ]
  },
  {
   "cell_type": "code",
   "execution_count": 6,
   "id": "fef77d84-fc2e-43c9-9cb3-f92ddf968ee4",
   "metadata": {},
   "outputs": [
    {
     "data": {
      "text/html": [
       "<div>\n",
       "<style scoped>\n",
       "    .dataframe tbody tr th:only-of-type {\n",
       "        vertical-align: middle;\n",
       "    }\n",
       "\n",
       "    .dataframe tbody tr th {\n",
       "        vertical-align: top;\n",
       "    }\n",
       "\n",
       "    .dataframe thead th {\n",
       "        text-align: right;\n",
       "    }\n",
       "</style>\n",
       "<table border=\"1\" class=\"dataframe\">\n",
       "  <thead>\n",
       "    <tr style=\"text-align: right;\">\n",
       "      <th></th>\n",
       "      <th>ETH</th>\n",
       "    </tr>\n",
       "  </thead>\n",
       "  <tbody>\n",
       "    <tr>\n",
       "      <th>SOL</th>\n",
       "      <td>1.169257</td>\n",
       "    </tr>\n",
       "    <tr>\n",
       "      <th>LUNA</th>\n",
       "      <td>1.094837</td>\n",
       "    </tr>\n",
       "    <tr>\n",
       "      <th>AVAX</th>\n",
       "      <td>1.225461</td>\n",
       "    </tr>\n",
       "    <tr>\n",
       "      <th>ATOM</th>\n",
       "      <td>1.026394</td>\n",
       "    </tr>\n",
       "    <tr>\n",
       "      <th>NEAR</th>\n",
       "      <td>1.126130</td>\n",
       "    </tr>\n",
       "  </tbody>\n",
       "</table>\n",
       "</div>"
      ],
      "text/plain": [
       "           ETH\n",
       "SOL   1.169257\n",
       "LUNA  1.094837\n",
       "AVAX  1.225461\n",
       "ATOM  1.026394\n",
       "NEAR  1.126130"
      ]
     },
     "execution_count": 6,
     "metadata": {},
     "output_type": "execute_result"
    }
   ],
   "source": [
    "# Compute asset betas to Ethereum\n",
    "eth_market = 'ETH'\n",
    "eth_asset_betas = compute_betas(prices, market_ticker='ETH')\n",
    "eth_asset_betas.head()"
   ]
  },
  {
   "cell_type": "code",
   "execution_count": 7,
   "id": "bad86556-1534-45b4-8082-a667fa59a776",
   "metadata": {},
   "outputs": [
    {
     "name": "stdout",
     "output_type": "stream",
     "text": [
      "[*********************100%***********************]  1 of 1 completed\n"
     ]
    },
    {
     "data": {
      "text/html": [
       "<div>\n",
       "<style scoped>\n",
       "    .dataframe tbody tr th:only-of-type {\n",
       "        vertical-align: middle;\n",
       "    }\n",
       "\n",
       "    .dataframe tbody tr th {\n",
       "        vertical-align: top;\n",
       "    }\n",
       "\n",
       "    .dataframe thead th {\n",
       "        text-align: right;\n",
       "    }\n",
       "</style>\n",
       "<table border=\"1\" class=\"dataframe\">\n",
       "  <thead>\n",
       "    <tr style=\"text-align: right;\">\n",
       "      <th></th>\n",
       "      <th>^GSPC</th>\n",
       "    </tr>\n",
       "  </thead>\n",
       "  <tbody>\n",
       "    <tr>\n",
       "      <th>ETH</th>\n",
       "      <td>2.441655</td>\n",
       "    </tr>\n",
       "    <tr>\n",
       "      <th>SOL</th>\n",
       "      <td>2.537124</td>\n",
       "    </tr>\n",
       "    <tr>\n",
       "      <th>LUNA</th>\n",
       "      <td>1.799032</td>\n",
       "    </tr>\n",
       "    <tr>\n",
       "      <th>AVAX</th>\n",
       "      <td>2.571743</td>\n",
       "    </tr>\n",
       "    <tr>\n",
       "      <th>ATOM</th>\n",
       "      <td>1.337772</td>\n",
       "    </tr>\n",
       "  </tbody>\n",
       "</table>\n",
       "</div>"
      ],
      "text/plain": [
       "         ^GSPC\n",
       "ETH   2.441655\n",
       "SOL   2.537124\n",
       "LUNA  1.799032\n",
       "AVAX  2.571743\n",
       "ATOM  1.337772"
      ]
     },
     "execution_count": 7,
     "metadata": {},
     "output_type": "execute_result"
    }
   ],
   "source": [
    "# Compute asset betas to S&P 500\n",
    "snp_market = '^GSPC' # Yahoo Finance ticker for the S&P 500\n",
    "snp_asset_betas = compute_betas(prices, market_ticker=snp_market)\n",
    "snp_asset_betas.head()"
   ]
  },
  {
   "cell_type": "markdown",
   "id": "a9b6e869-ca0a-4701-a859-44ef316a7fc8",
   "metadata": {},
   "source": [
    "Lastly we can combine all three betas dataframe into one in order to easily generate a betas dashboard"
   ]
  },
  {
   "cell_type": "code",
   "execution_count": 8,
   "id": "a4c06d01-a6aa-462d-8f44-ea9b4ab6675c",
   "metadata": {},
   "outputs": [],
   "source": [
    "from betas import betas_dashboard"
   ]
  },
  {
   "cell_type": "code",
   "execution_count": 9,
   "id": "58096bbd-6198-420c-9f12-03c1bc3a6b64",
   "metadata": {},
   "outputs": [
    {
     "data": {
      "text/html": [
       "<div>\n",
       "<style scoped>\n",
       "    .dataframe tbody tr th:only-of-type {\n",
       "        vertical-align: middle;\n",
       "    }\n",
       "\n",
       "    .dataframe tbody tr th {\n",
       "        vertical-align: top;\n",
       "    }\n",
       "\n",
       "    .dataframe thead th {\n",
       "        text-align: right;\n",
       "    }\n",
       "</style>\n",
       "<table border=\"1\" class=\"dataframe\">\n",
       "  <thead>\n",
       "    <tr style=\"text-align: right;\">\n",
       "      <th></th>\n",
       "      <th>BTC</th>\n",
       "      <th>ETH</th>\n",
       "      <th>^GSPC</th>\n",
       "    </tr>\n",
       "  </thead>\n",
       "  <tbody>\n",
       "    <tr>\n",
       "      <th>ETH</th>\n",
       "      <td>1.189250</td>\n",
       "      <td>NaN</td>\n",
       "      <td>2.441655</td>\n",
       "    </tr>\n",
       "    <tr>\n",
       "      <th>SOL</th>\n",
       "      <td>1.412476</td>\n",
       "      <td>1.169257</td>\n",
       "      <td>2.537124</td>\n",
       "    </tr>\n",
       "    <tr>\n",
       "      <th>LUNA</th>\n",
       "      <td>1.553203</td>\n",
       "      <td>1.094837</td>\n",
       "      <td>1.799032</td>\n",
       "    </tr>\n",
       "    <tr>\n",
       "      <th>AVAX</th>\n",
       "      <td>1.665892</td>\n",
       "      <td>1.225461</td>\n",
       "      <td>2.571743</td>\n",
       "    </tr>\n",
       "    <tr>\n",
       "      <th>ATOM</th>\n",
       "      <td>1.281610</td>\n",
       "      <td>1.026394</td>\n",
       "      <td>1.337772</td>\n",
       "    </tr>\n",
       "  </tbody>\n",
       "</table>\n",
       "</div>"
      ],
      "text/plain": [
       "           BTC       ETH     ^GSPC\n",
       "ETH   1.189250       NaN  2.441655\n",
       "SOL   1.412476  1.169257  2.537124\n",
       "LUNA  1.553203  1.094837  1.799032\n",
       "AVAX  1.665892  1.225461  2.571743\n",
       "ATOM  1.281610  1.026394  1.337772"
      ]
     },
     "execution_count": 9,
     "metadata": {},
     "output_type": "execute_result"
    }
   ],
   "source": [
    "betas_df = pd.concat([btc_asset_betas, eth_asset_betas, snp_asset_betas], axis=1)\n",
    "betas_df.head()"
   ]
  },
  {
   "cell_type": "markdown",
   "id": "930adc3a-6a59-42e8-afd0-f11cbab00b03",
   "metadata": {},
   "source": [
    "Lastly, we create a sector mapping as a pandas dictionary to correctly group assets in different sector and be able to compute sector betas"
   ]
  },
  {
   "cell_type": "code",
   "execution_count": 10,
   "id": "d62121f6-3669-421a-8a6b-8b56866e94ef",
   "metadata": {},
   "outputs": [],
   "source": [
    "# Sector mapping\n",
    "sector_mapping = {'ETH': 'Smart Contract Platform',\n",
    "                  'SOL': 'Smart Contract Platform',\n",
    "                  'LUNA': 'Smart Contract Platform',\n",
    "                  'AVAX': 'Smart Contract Platform',\n",
    "                  'ATOM': 'Smart Contract Platform',\n",
    "                  'NEAR': 'Smart Contract Platform',\n",
    "                  'FTM': 'Smart Contract Platform',\n",
    "                  'UNI': 'DEX',\n",
    "                  'SUSHI': 'DEX',\n",
    "                  'BNT': 'DEX',\n",
    "                  'CRV': 'DEX',\n",
    "                  'LRC': 'DEX',\n",
    "                  'SUSHI': 'DEX',\n",
    "                  'ALCX': 'DeFi2.0',\n",
    "                  'SPELL': 'DeFi2.0',\n",
    "                  'TOKE': 'DeFi2.0',\n",
    "                  'OHM': 'DeFi2.0',\n",
    "                  'FXS': 'DeFi2.0',\n",
    "                  'CVX': 'DeFi2.0',\n",
    "                  'AAVE': 'Lending',\n",
    "                  'MKR': 'Lending',\n",
    "                  'COMP': 'Lending',\n",
    "                  'ANC': 'Lending',\n",
    "                  'XVS': 'Lending',\n",
    "                  'GRT': 'Data Management',\n",
    "                  'BAND': 'Data Management',\n",
    "                  'API3': 'Data Management',\n",
    "                  'FIL': 'File Storage',\n",
    "                  'AR': 'File Storage',\n",
    "                  'SC': 'File Storage',\n",
    "                  'STORJ': 'File Storage',\n",
    "                  'AXS': 'Gaming',\n",
    "                  'SAND': 'Gaming',\n",
    "                  'CHZ': 'Gaming',\n",
    "                  'ENJ': 'Gaming',\n",
    "                  'YGG': 'Gaming',\n",
    "                  'ILV': 'Gaming',\n",
    "                  'MANA': 'Gaming',\n",
    "                  'RARI': 'Gaming',\n",
    "                  'SLP': 'Gaming'}"
   ]
  },
  {
   "cell_type": "code",
   "execution_count": 11,
   "id": "104e66ab-d9e8-43d1-97a5-b739b416e4ad",
   "metadata": {},
   "outputs": [
    {
     "data": {
      "image/png": "[encoded data removed]",
      "text/plain": [
       "<Figure size 2160x1080 with 6 Axes>"
      ]
     },
     "metadata": {
      "needs_background": "light"
     },
     "output_type": "display_data"
    }
   ],
   "source": [
    "# Generate dashboard using asset betas dataframe and the sector mapping dictionary\n",
    "betas_dashboard(betas_df, sector_mapping)"
   ]
  }
 ],
 "metadata": {
  "kernelspec": {
   "display_name": "Python 3 (ipykernel)",
   "language": "python",
   "name": "python3"
  },
  "language_info": {
   "codemirror_mode": {
    "name": "ipython",
    "version": 3
   },
   "file_extension": ".py",
   "mimetype": "text/x-python",
   "name": "python",
   "nbconvert_exporter": "python",
   "pygments_lexer": "ipython3",
   "version": "3.9.6"
  }
 },
 "nbformat": 4,
 "nbformat_minor": 5
}
